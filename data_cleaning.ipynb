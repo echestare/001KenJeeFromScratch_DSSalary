{
 "cells": [
  {
   "cell_type": "markdown",
   "id": "f9a64fb6",
   "metadata": {},
   "source": [
    "# DATA CLEANING"
   ]
  },
  {
   "cell_type": "code",
   "execution_count": 1,
   "id": "2243b906",
   "metadata": {},
   "outputs": [],
   "source": [
    "import pandas as pd\n",
    "#df = pd.read_csv(\"data_scraped.csv\")###############################################################################\n",
    "\n",
    "df = pd.read_csv(\"glassdoor_jobs - Ken Jee - 2020.csv\")\n"
   ]
  },
  {
   "cell_type": "markdown",
   "id": "8b585b20",
   "metadata": {},
   "source": [
    "## Basic cleanings:\n",
    "\t* Drop duplicates and fill NaN values.\n",
    "\t* Remove first column (false index) and rows without salary.\n",
    "\t* Reset Index"
   ]
  },
  {
   "cell_type": "code",
   "execution_count": 2,
   "id": "7129dd21",
   "metadata": {},
   "outputs": [],
   "source": [
    "#Checking columns names:\n",
    "#df.columns\n",
    "#dropping duplicates rows\n",
    "df=df.drop_duplicates()\n",
    "#deleting the undesirable column 1:\n",
    "df = df.drop(['Unnamed: 0'], axis =1)\n",
    "#deleting row without salary: our entirely analysis depends on salary info.\n",
    "df = df[df['Salary Estimate'] != '-1']\n",
    "#resetting index\n",
    "df=df.reset_index(drop=True)\n",
    "#df.isnull().sum() #This line count how many nan data are in each column of the df\n",
    "#filling nan data with '-1'\n",
    "df = df.fillna('-1')"
   ]
  },
  {
   "cell_type": "markdown",
   "id": "b33c6f21",
   "metadata": {},
   "source": [
    "## Parsed numeric data out of salary column as min, max and avg _salary:\n",
    "\t* Taked into account the hourly given salaries.\n",
    "\t* Added columns for employer provided salary and hourly wages."
   ]
  },
  {
   "cell_type": "code",
   "execution_count": 3,
   "id": "4ffe5253",
   "metadata": {},
   "outputs": [],
   "source": [
    "#Since cells were found to have a different salary format, they should be highlighted.\n",
    "#So two new columns with 1 for the detected cells and 0 for the normal cells are needed (one for each case):\n",
    "df[\"hourly\"] = df['Salary Estimate'].apply(lambda x: 1 if 'per hour' in x.lower() else 0)\n",
    "df[\"employer_provided\"] = df['Salary Estimate'].apply(lambda x: 1 if 'employer provided salary' in x.lower() else 0)\n",
    "\n",
    "#Creating a new dataframe with the salary data and processed it:\n",
    "    #Here we are deleting those rows without the salary data.\n",
    "df = df[df['Salary Estimate'] != '-1']\n",
    "    #Here is taken everything before the '(' ignoring the rest and pasting that in the serie \"salary\".\n",
    "salary = df[\"Salary Estimate\"].apply(lambda x: x.split('(')[0])\n",
    "    #Here are erased the 'K' and '$\n",
    "minus_Kd = salary.apply(lambda x: x.replace('K','').replace('$',''))\n",
    "    #Here are replaced the cases previously detected with a blank space instead.\n",
    "min_hr = minus_Kd.apply(lambda x: x.lower().replace('per hour','').replace('employer provided salary:',''))\n",
    "\n",
    "#Now that only numbers are left, separated with a '-', split them and put them in two different dataframe will help to calculate the average\n",
    "    #This doesn't take into consideration the data presented in an hourly form:\n",
    "df['min_salary'] = min_hr.apply(lambda x: int(x.split('-')[0]))\n",
    "df['max_salary'] = min_hr.apply(lambda x: int(x.split('-')[1]))\n",
    "    #calculating average:\n",
    "\n",
    "#Here, Ken Jee forgot to take into consideration those salary values that where given in an hourly form. Maybe, I should had declared a serie and do it there. However, it works anyway:\n",
    "    #It is logical to think tha the companies that are hiring telling an hourly salary could not be hiring annually, hiring by season, or are not sure about investment in this area, so  the salaries could be irregular (generally worst)\n",
    "        #Later if I don't want to add them in the EDA step, then there we got the \"hourly\" column\n",
    "            #Why I multiply by 1.92? 8 hours, 5 days, 4 weeks, 12 months: 8*5*4*12=1920... The values in the column are in miles, so I need to divide by 1000.\n",
    "df['min_salary']= df.apply(lambda x: x['min_salary'] if x['hourly']==0 else (int)(x['min_salary']*1.92), axis = 1)\n",
    "df['max_salary']= df.apply(lambda x: x['max_salary'] if x['hourly']==0 else (int)(x['max_salary']*1.92), axis = 1)\n",
    "        \n",
    "    #Finally, averaging column is calculated:\n",
    "df['avg_salary'] = (df.min_salary+df.max_salary)/2"
   ]
  },
  {
   "cell_type": "markdown",
   "id": "820e0768",
   "metadata": {},
   "source": [
    " ## Parsed rating out of company text and removed undesired characters."
   ]
  },
  {
   "cell_type": "code",
   "execution_count": 4,
   "id": "bd1fe06c",
   "metadata": {},
   "outputs": [
    {
     "data": {
      "text/plain": [
       "0                          Tecolote Research\n",
       "1      University of Maryland Medical System\n",
       "2                                    KnowBe4\n",
       "3                                       PNNL\n",
       "4                         Affinity Solutions\n",
       "                       ...                  \n",
       "737                                      GSK\n",
       "738                               Eventbrite\n",
       "739           Software Engineering Institute\n",
       "740                             Numeric, LLC\n",
       "741             Riverside Research Institute\n",
       "Name: company_txt, Length: 742, dtype: object"
      ]
     },
     "execution_count": 4,
     "metadata": {},
     "output_type": "execute_result"
    }
   ],
   "source": [
    "#Taking into account that the Company_Name  column has not only the name of the company, but also the information of the ratings, it is necessary to remove ir the latter.\n",
    "#If you know the glassdoor_scraping.py code you will know that when there is no rating, the cell will be filled with \"-1\", but when there is rating the content of the cell will be cero above (this also can be seen just looking the data).\n",
    "#Finally, the rating (when exist) has 3 characters (number dot number)\n",
    "#So, the next line is telling that when the Rating column has a value greater than zero, the company name will have 3 characters removed.\n",
    "    #the \"axis = 1\" parameter says that the data will be searched in the same row\n",
    "df['company_txt']= df.apply(lambda x: x['Company Name'] if x['Rating']<0 else x['Company Name'][:-3], axis = 1)\n",
    "\n",
    "#If we watch what we have in the company names treated column:\n",
    "df['company_txt']\n",
    "#It is quite evident that each cell has \"/n\" characters at the end. Then we should remove it.\n",
    "\n",
    "#Ken Jee used this:\n",
    "#df['company_txt'] = df.company_txt.apply(lambda x: x.replace('\\n',''))\n",
    "#I think this is better:\n",
    "df['company_txt'] = df['company_txt'].str[:-1]\n",
    "df['company_txt']\n"
   ]
  },
  {
   "cell_type": "markdown",
   "id": "31db43b2",
   "metadata": {},
   "source": [
    "## Made a new column for company state and cleaned it."
   ]
  },
  {
   "cell_type": "code",
   "execution_count": 5,
   "id": "38efdba8",
   "metadata": {},
   "outputs": [],
   "source": [
    "#Here can be seeing that States are after the comma.\n",
    "    #The next line split the cell and take what is after the comma. Simple.\n",
    "df['job_state'] = df['Location'].apply(lambda x: x.split(',')[1] if ',' in x else x)\n",
    "    #If we want to see how many are in each state (it prints the result in the console):\n",
    "#df.job_state.value_counts()\n",
    "\n",
    "#This works in Ken Jee work, but since the site glassdoor does not give HeadQuarters information anymore it is irrelevant to do this now. In any case, I left it here.\n",
    "#df['same_state'] = df.apply(lambda x: 1 if x.Location == x.Headquarters else 0, axis=1)\n",
    "\n",
    "\n",
    "#Ok, now gonna see how the values of job_state are repeated\n",
    "df['job_state'].value_counts()\n",
    "#Here can be seen \"Los Angeles\" (an error, obviously)\n",
    "\n",
    "df['job_state'] = df.job_state.apply(lambda x: x.strip() if x.strip().lower() != 'los angeles' else 'CA')\n",
    "df['job_state'] = df.job_state.apply(lambda x: x.strip() if x.strip().lower() != 'iowa' else 'IA')\n",
    "df['job_state'] = df.job_state.apply(lambda x: x.strip() if x.strip().lower() != 'georgia' else 'GA')\n",
    "df['job_state'] = df.job_state.apply(lambda x: x.strip() if x.strip().lower() != 'virginia' else 'VA')\n",
    "df['job_state'].value_counts()"
   ]
  },
  {
   "cell_type": "markdown",
   "id": "7dbfea79",
   "metadata": {},
   "source": [
    "## Transformed founded date into age of company "
   ]
  },
  {
   "cell_type": "code",
   "execution_count": 9,
   "id": "a6f74903",
   "metadata": {},
   "outputs": [],
   "source": [
    "#How many years are these companies working?\n",
    "    #Here you must to put the year according to the data. If I use the data that Ken Jee extracted I must to use 2020 (in that year was the data extracted), then if I want to compare this data with data extracted other year and I don't use the correct year, the comparison become meaningless\n",
    "df['age'] = df.Founded.apply(lambda x: x if x<1 else 2021-x)"
   ]
  },
  {
   "cell_type": "markdown",
   "id": "4ce76988",
   "metadata": {},
   "source": [
    "## Made columns for if different skills were listed in the job description:\n",
    "\n",
    "|||||||\n",
    "|------------------|------------------|------------------|------------------|------------------|------------------|\n",
    "|Python  |R|Spark|AWS|Excel|SQL|\n",
    "|SAS|d3.js|Julia|Jupyter|Keras  |MatLab|\n",
    "|MatPlotLib|PyTorch|Scikit-Learn|Tensor Flow|Weka|Selenium|\n",
    "|Hadoop|Tableau|Power BI|BigML|RapidMiner|Apache Flink|\n",
    "|DataRobot|SAP Hana|Mongo DB|Trifacta|MiniTab|Kafka|\n",
    "|MicroStrategy|Google Analytics|SPSS|-|-|-|\n",
    "||||||||"
   ]
  },
  {
   "cell_type": "code",
   "execution_count": 10,
   "id": "3f2ddab6",
   "metadata": {},
   "outputs": [
    {
     "data": {
      "text/plain": [
       "0    726\n",
       "1     16\n",
       "Name: spss_yn, dtype: int64"
      ]
     },
     "execution_count": 10,
     "metadata": {},
     "output_type": "execute_result"
    }
   ],
   "source": [
    "#We may see what we got.\n",
    "#df['Job Description']\n",
    "    #Looks like it is the full job description. Great! We can extract many information from this.\n",
    "\n",
    "#Now, what Analysis should we do?\n",
    "#Perhaps to watch how many job description mentions 2019 most used data science tool\n",
    "    #Why 2019: cause Ken Jee is doing this analysis in 2020 and when he searched \"top data science tool\" to know (how one must do in every project \"investigate what is important there\") he found this site https://data-flair.training/blogs/data-science-tools/ and considered relevant enough.\n",
    "    #This is just a little representation about how one must to investigate, take into consideration source with criterion and a judgment approach\n",
    "    #So he determined (beginning with this example investigation) 5 keywords from the source: python, r studio, sparks, aws and excel.\n",
    "    \n",
    "    #Could this source be enough for me now (2021)?: https://searchbusinessanalytics.techtarget.com/feature/15-data-science-tools-to-consider-using \n",
    "                                                    #https://www.jigsawacademy.com/top-analytics-tools-every-data-scientist-must-learn/\n",
    "    \n",
    "    #Well, we count how many jobs_descriptions mention each keyword:\n",
    "#python \n",
    "    #I think if some job description calls pySpark or py-something it is implicit \"python\"\n",
    "df['python_yn']  = df['Job Description'].apply(lambda x: 1 if 'py' in x.lower() else 0)\n",
    "    #NOTE: the _yn in the name means that what I'm doing is split by yes or no there is \"python\" in the description.\n",
    "df.python_yn.value_counts()\n",
    "#r studio\n",
    "    #If you say \"hey, I know r and py\" looks like \" r \" is the correct way to search it.\n",
    "df['R_yn']  = df['Job Description'].apply(lambda x: 1 if ' r ' in x.lower() or 'r-studio' in x.lower() or ' r,' in x.lower() or ' r.' in x.lower() else 0)\n",
    "df.R_yn.value_counts()\n",
    "#spark\n",
    "df['spark_yn']  = df['Job Description'].apply(lambda x: 1 if 'spark' in x.lower() else 0)\n",
    "df.spark_yn.value_counts()\n",
    "#aws\n",
    "df['aws_yn']  = df['Job Description'].apply(lambda x: 1 if 'aws' in x.lower() else 0)\n",
    "df.aws_yn.value_counts()\n",
    "#excel\n",
    "df['excel_yn']  = df['Job Description'].apply(lambda x: 1 if 'excel' in x.lower() else 0)\n",
    "df.excel_yn.value_counts()\n",
    "#sql\n",
    "df['sql_yn']  = df['Job Description'].apply(lambda x: 1 if 'sql' in x.lower() else 0)\n",
    "df.sql_yn.value_counts()\n",
    "#sas \n",
    "df['sas_yn']  = df['Job Description'].apply(lambda x: 1 if (' sas ' in x.lower() or ' sas,' in x.lower() or ' sas.' in x.lower())  else 0)\n",
    "df.sas_yn.value_counts()\n",
    "#d3js\n",
    "df['d3js_yn']  = df['Job Description'].apply(lambda x: 1 if 'd3' in x.lower() else 0)\n",
    "df.d3js_yn.value_counts()\n",
    "#julia\n",
    "df['julia_yn']  = df['Job Description'].apply(lambda x: 1 if 'julia' in x.lower() else 0)\n",
    "df.julia_yn.value_counts()\n",
    "#jupyter\n",
    "df['jupyter_yn']  = df['Job Description'].apply(lambda x: 1 if 'jupyter' in x.lower() else 0)\n",
    "df.jupyter_yn.value_counts()\n",
    "#keras\n",
    "df['keras_yn']  = df['Job Description'].apply(lambda x: 1 if 'keras' in x.lower() else 0)\n",
    "df.keras_yn.value_counts()\n",
    "#matlab\n",
    "df['matlab_yn']  = df['Job Description'].apply(lambda x: 1 if 'matlab' in x.lower() else 0)\n",
    "df.matlab_yn.value_counts()\n",
    "#matplotlib\n",
    "df['matplotlib_yn']  = df['Job Description'].apply(lambda x: 1 if 'matplotlib' in x.lower() else 0)\n",
    "df.matplotlib_yn.value_counts()\n",
    "#pytorch\n",
    "df['pytorch_yn']  = df['Job Description'].apply(lambda x: 1 if 'pytorch' in x.lower() else 0)\n",
    "df.pytorch_yn.value_counts()\n",
    "#scikit-learn\n",
    "df['scikit_yn']  = df['Job Description'].apply(lambda x: 1 if 'scikit' in x.lower() else 0)\n",
    "df.scikit_yn.value_counts()\n",
    "#tensor\n",
    "df['tensor_yn']  = df['Job Description'].apply(lambda x: 1 if 'tensor' in x.lower() else 0)\n",
    "df.tensor_yn.value_counts()\n",
    "#weka\n",
    "df['weka_yn']  = df['Job Description'].apply(lambda x: 1 if 'weka' in x.lower() else 0)\n",
    "df.weka_yn.value_counts()\n",
    "#selenium\n",
    "df['selenium_yn']  = df['Job Description'].apply(lambda x: 1 if 'selenium' in x.lower() else 0)\n",
    "df.selenium_yn.value_counts()\n",
    "#hadoop\n",
    "df['hadoop_yn']  = df['Job Description'].apply(lambda x: 1 if 'hadoop' in x.lower() else 0)\n",
    "df.hadoop_yn.value_counts()\n",
    "#tableau\n",
    "df['tableau_yn']  = df['Job Description'].apply(lambda x: 1 if 'tableau' in x.lower() else 0)\n",
    "df.tableau_yn.value_counts()\n",
    "#power bi\n",
    "df['bi_yn']  = df['Job Description'].apply(lambda x: 1 if ('power bi' in x.lower() or 'powerbi' in x.lower()) else 0)\n",
    "df.bi_yn.value_counts()\n",
    "#bigml\n",
    "df['bigml_yn']  = df['Job Description'].apply(lambda x: 1 if 'bigml' in x.lower() else 0)\n",
    "df.bigml_yn.value_counts()\n",
    "#rapidminer\n",
    "df['rapidminer_yn']  = df['Job Description'].apply(lambda x: 1 if 'rapidminer' in x.lower() else 0)\n",
    "df.rapidminer_yn.value_counts()\n",
    "#apache flink\n",
    "df['flink_yn']  = df['Job Description'].apply(lambda x: 1 if 'flink' in x.lower() else 0)\n",
    "df.flink_yn.value_counts()\n",
    "#datarobot\n",
    "df['datarobot_yn']  = df['Job Description'].apply(lambda x: 1 if 'datarobot' in x.lower() else 0)\n",
    "df.datarobot_yn.value_counts()\n",
    "#sap hana\n",
    "df['hana_yn']  = df['Job Description'].apply(lambda x: 1 if 'hana' in x.lower() else 0)\n",
    "df.hana_yn.value_counts()\n",
    "#mongo db\n",
    "df['mongo_yn']  = df['Job Description'].apply(lambda x: 1 if 'mongo' in x.lower() else 0)\n",
    "df.mongo_yn.value_counts()\n",
    "#trifacta\n",
    "df['trifacta_yn']  = df['Job Description'].apply(lambda x: 1 if 'trifacta' in x.lower() else 0)\n",
    "df.trifacta_yn.value_counts()\n",
    "#minitab\n",
    "df['minitab_yn']  = df['Job Description'].apply(lambda x: 1 if 'minitab' in x.lower() else 0)\n",
    "df.minitab_yn.value_counts()\n",
    "#kafka\n",
    "df['kafka_yn']  = df['Job Description'].apply(lambda x: 1 if 'kafka' in x.lower() else 0)\n",
    "df.kafka_yn.value_counts()\n",
    "#microstrategy\n",
    "df['microstrategy_yn']  = df['Job Description'].apply(lambda x: 1 if 'microstrategy' in x.lower() else 0)\n",
    "df.microstrategy_yn.value_counts()\n",
    "#google analytics\n",
    "df['google_an_yn']  = df['Job Description'].apply(lambda x: 1 if 'google analytics' in x.lower() else 0)\n",
    "df.google_an_yn.value_counts()\n",
    "#Statistical Package for the Social Sciences\n",
    "df['spss_yn']  = df['Job Description'].apply(lambda x: 1 if 'spss' in x.lower() else 0)\n",
    "df.spss_yn.value_counts()"
   ]
  },
  {
   "cell_type": "markdown",
   "id": "d98fbd8a",
   "metadata": {},
   "source": [
    "## Column for simplified Job Title."
   ]
  },
  {
   "cell_type": "code",
   "execution_count": 11,
   "id": "9fd005a6",
   "metadata": {},
   "outputs": [],
   "source": [
    "#: there are words that are repeated more often than others.\n",
    "\n",
    "#If we search for more extended types of data scientist, we will find just 5 or 6 (as Ken Jee done).\n",
    "# def title_simplifier(title):\n",
    "#     if 'data scientist' in title.lower():\n",
    "#         return 'data scientist'\n",
    "#     elif 'data engineer' in title.lower():\n",
    "#         return 'data engineer'\n",
    "#     elif 'analyst' in title.lower():\n",
    "#         return 'analyst'\n",
    "#     elif 'machine learning' in title.lower():\n",
    "#         return 'machine learning'\n",
    "#     elif 'manager' in title.lower():\n",
    "#         return 'manager'\n",
    "#     elif 'director' in title.lower():\n",
    "#         return 'director'\n",
    "#     else:\n",
    "#         return 'na'\n",
    "    \n",
    "#but, If we read data we have got here we can find many more data related job positions. ALERT! doing this we can make a wrong \n",
    "#play, taking into account that we can be overfittint our model to the data we have, it could be better appreciated if we compare\n",
    "#our results in this data with the results with the testing data or unseen data. If the results with other data is much more \n",
    "#different one of the reasons could be this overfitting\n",
    "def title_simplifier(title):\n",
    "    if 'data scientist' in title.lower():\n",
    "        return 'data scientist'\n",
    "    elif 'data science' in title.lower():\n",
    "        return 'data scientist'\n",
    "    elif 'data engineer' in title.lower():\n",
    "        return 'data engineer'\n",
    "    elif 'analyst' in title.lower():\n",
    "        return 'analyst'\n",
    "    elif 'machine learning' in title.lower():\n",
    "        return 'machine learning engineer'\n",
    "    elif 'manager' in title.lower():\n",
    "        return 'manager'\n",
    "    elif 'director' in title.lower():\n",
    "        return 'director'\n",
    "    elif 'scientist' in title.lower():\n",
    "        return 'other scientist'\n",
    "    elif 'data modeler' in title.lower():\n",
    "        return 'data modeler'\n",
    "    elif 'data' and 'anal' in title.lower():\n",
    "        return 'data analitics'\n",
    "    else:\n",
    "        return 'na'  #not applicable\n"
   ]
  },
  {
   "cell_type": "code",
   "execution_count": 12,
   "id": "6c7e746a",
   "metadata": {},
   "outputs": [
    {
     "data": {
      "text/plain": [
       "data scientist               313\n",
       "other scientist              143\n",
       "data engineer                119\n",
       "analyst                      101\n",
       "machine learning engineer     22\n",
       "manager                       16\n",
       "na                            10\n",
       "data analitics                 8\n",
       "data modeler                   5\n",
       "director                       5\n",
       "Name: job_simp, dtype: int64"
      ]
     },
     "execution_count": 12,
     "metadata": {},
     "output_type": "execute_result"
    }
   ],
   "source": [
    "df['job_simp'] = df['Job Title'].apply(title_simplifier)\n",
    "df['job_simp'].value_counts()"
   ]
  },
  {
   "cell_type": "markdown",
   "id": "9025c1f7",
   "metadata": {},
   "source": [
    "## Column for Seniority:\n",
    "\t* by analyzing Jobs Title info and by analyzing Jobs Descriptoin info."
   ]
  },
  {
   "cell_type": "code",
   "execution_count": 13,
   "id": "fa407214",
   "metadata": {},
   "outputs": [
    {
     "data": {
      "text/plain": [
       "na    519\n",
       "sr    220\n",
       "jr      3\n",
       "Name: seniority_by_title, dtype: int64"
      ]
     },
     "execution_count": 13,
     "metadata": {},
     "output_type": "execute_result"
    }
   ],
   "source": [
    "#This function looks for the seniority asked in the title of each job asking (Job Title column)\n",
    "def seniority(title):\n",
    "    if 's.sr' in title.lower() or 's. sr' in title.lower() or 's sr' in title.lower() or 'ssr' in title.lower() or 's. senior' in title.lower() or 'semi or' in title.lower() or 'middle' in title.lower() or 'mid' in title.lower():\n",
    "        return 'ssr'\n",
    "    elif 'jr' in title.lower() or 'junior' in title.lower():\n",
    "        return 'jr'\n",
    "    elif 'sr' in title.lower() or 'senior' in title.lower() or 'lead' in title.lower() or 'principal' in title.lower():\n",
    "        return 'sr'\n",
    "    else:\n",
    "        return 'na'"
   ]
  },
  {
   "cell_type": "code",
   "execution_count": null,
   "id": "a9d0618b",
   "metadata": {},
   "outputs": [],
   "source": [
    "df['seniority_by_title'] = df['Job Title'].apply(seniority)\n",
    "df.seniority_by_title.value_counts()"
   ]
  },
  {
   "cell_type": "code",
   "execution_count": 14,
   "id": "1141453b",
   "metadata": {},
   "outputs": [
    {
     "data": {
      "text/plain": [
       "na    294\n",
       "5     138\n",
       "2     102\n",
       "3      90\n",
       "7      36\n",
       "4      29\n",
       "8      26\n",
       "1      14\n",
       "6      11\n",
       "9       2\n",
       "Name: seniority_by_description, dtype: int64"
      ]
     },
     "execution_count": 14,
     "metadata": {},
     "output_type": "execute_result"
    }
   ],
   "source": [
    "#This function looks for the seniority asked in the description of each job asking (Job Description column)\n",
    "import re\n",
    "        \n",
    "\n",
    "def experience (job_description):\n",
    "\n",
    "    if 'years experience' in job_description.lower(): #find each position in 'Job Description' that says \"years experience\" (years experience)\n",
    "        text_list = job_description.split('years experience')\n",
    "        text_list = [x[-15:] for x in text_list] #Just take last 15 characters before the searched string (where the text says how many years)\n",
    "        \n",
    "        if len(text_list)>1: #the next line only is executed if there is more than one item in the list\n",
    "            text_list = text_list[:-1] #delete last item in list (cause it does not contain a number)\n",
    "        \n",
    "        # Here I transform words to numbers\n",
    "        for index, item in enumerate(text_list):\n",
    "            if \"one\" in text_list[index].lower():\n",
    "                text_list[index] = text_list[index].lower().replace('one','1')\n",
    "            if \"two\" in text_list[index].lower():\n",
    "                text_list[index] = text_list[index].lower().replace('two','2')\n",
    "            if \"three\" in text_list[index].lower():\n",
    "                text_list[index] = text_list[index].lower().replace('three','3')\n",
    "            if \"four\" in text_list[index].lower():\n",
    "                text_list[index] = text_list[index].lower().replace('four','4')\n",
    "            if \"five\" in text_list[index].lower():\n",
    "                text_list[index] = text_list[index].lower().replace('five','5')\n",
    "            if \"six\" in text_list[index].lower():\n",
    "                text_list[index] = text_list[index].lower().replace('six','6')\n",
    "            if \"seven\" in text_list[index].lower():\n",
    "                text_list[index] = text_list[index].lower().replace('seven','7')\n",
    "            if \"eight\" in text_list[index].lower():\n",
    "                text_list[index] = text_list[index].lower().replace('eight','8')\n",
    "            if \"nine\" in text_list[index].lower():\n",
    "                text_list[index] = text_list[index].lower().replace('nine','9')\n",
    "            if \"ten\" in text_list[index].lower():\n",
    "                text_list[index] = text_list[index].lower().replace('ten','10')\n",
    "            if \"eleven\" in text_list[index].lower():\n",
    "                text_list[index] = text_list[index].lower().replace('eleven','11')\n",
    "            if \"twelve\" in text_list[index].lower():\n",
    "                text_list[index] = text_list[index].lower().replace('twelve','12')\n",
    "\n",
    "        # Here numbers are everything left. (thanks stackoverflow)\n",
    "        pattern = re.compile(r'\\d+')\n",
    "        num_list = [\" \".join(pattern.findall(item)) for item in text_list] #Take each number and create a list of numbers.\n",
    "        #NOTE: when there are decimals numbers, they are taken as different numbers (i.e. 3.5 are taken as 3 and 5). But, taking into account that the average between this and it correct value not affect much, it is irrelevant to correct it.\n",
    "\n",
    "        num_list = max(num_list)   #finally we take the bigger number\n",
    "        #(this means that if the company ask for 2 years of experience with python and 5 years with ML, the important number is the 5)\n",
    "                \n",
    "        text = ' '.join(num_list)\n",
    "        #I choose to do it like this because if I join number I can't differentiate a decimal to decide which is larger('10 3' -> 103)\n",
    "        last_list = text.split(' ')\n",
    "        text = max(last_list)   #finally we take the bigger number\n",
    "        #(this means that if the company ask for 2 years of experience with python and 5 years with ML, the important number is the 5)\n",
    "             \n",
    "        if text == '': #Writes 'na' when text is empty (because in the text before de searched string there is no numbers)\n",
    "            text = 'na'\n",
    "            \n",
    "        return text\n",
    "    \n",
    "    elif 'years of' in job_description.lower(): #find each position in 'Job Description' that says \"years of\" (years of experience)\n",
    "        text_list = job_description.split('years of')\n",
    "        text_list = [x[-15:] for x in text_list] #Just take last 15 characters before the searched string (where the text says how many years)\n",
    "        \n",
    "        if len(text_list)>1: #the next line only is executed if there is more than one item in the list\n",
    "            text_list = text_list[:-1] #delete last item in list (cause it does not contain a number)\n",
    "        \n",
    "        # Here I transform words to numbers\n",
    "        for index, item in enumerate(text_list):\n",
    "            if \"one\" in text_list[index].lower():\n",
    "                text_list[index] = text_list[index].lower().replace('one','1')\n",
    "            if \"two\" in text_list[index].lower():\n",
    "                text_list[index] = text_list[index].lower().replace('two','2')\n",
    "            if \"three\" in text_list[index].lower():\n",
    "                text_list[index] = text_list[index].lower().replace('three','3')\n",
    "            if \"four\" in text_list[index].lower():\n",
    "                text_list[index] = text_list[index].lower().replace('four','4')\n",
    "            if \"five\" in text_list[index].lower():\n",
    "                text_list[index] = text_list[index].lower().replace('five','5')\n",
    "            if \"six\" in text_list[index].lower():\n",
    "                text_list[index] = text_list[index].lower().replace('six','6')\n",
    "            if \"seven\" in text_list[index].lower():\n",
    "                text_list[index] = text_list[index].lower().replace('seven','7')\n",
    "            if \"eight\" in text_list[index].lower():\n",
    "                text_list[index] = text_list[index].lower().replace('eight','8')\n",
    "            if \"nine\" in text_list[index].lower():\n",
    "                text_list[index] = text_list[index].lower().replace('nine','9')\n",
    "            if \"ten\" in text_list[index].lower():\n",
    "                text_list[index] = text_list[index].lower().replace('ten','10')\n",
    "            if \"eleven\" in text_list[index].lower():\n",
    "                text_list[index] = text_list[index].lower().replace('eleven','11')\n",
    "            if \"twelve\" in text_list[index].lower():\n",
    "                text_list[index] = text_list[index].lower().replace('twelve','12')\n",
    "\n",
    "        # Here numbers are everything left. (thanks stackoverflow)\n",
    "        pattern = re.compile(r'\\d+')\n",
    "        num_list = [\" \".join(pattern.findall(item)) for item in text_list] #Take each number and create a list of numbers.\n",
    "        #NOTE: when there are decimals numbers, they are taken as different numbers (i.e. 3.5 are taken as 3 and 5). But, taking into account that the average between this and it correct value not affect much, it is irrelevant to correct it.\n",
    "\n",
    "        num_list = max(num_list)   #finally we take the bigger number\n",
    "        #(this means that if the compay ask for 2 years of experience with python and 5 years with ML, the important number is the 5)\n",
    "                \n",
    "        text = ' '.join(num_list)\n",
    "        #I choose to do it like this because if I join number I can't differentiate a decimal to decide which is larger('10 3' -> 103)\n",
    "        last_list = text.split(' ')\n",
    "        text = max(last_list)   #finally we take the bigger number\n",
    "        #(this means that if the company ask for 2 years of experience with python and 5 years with ML, the important number is the 5)\n",
    "    \n",
    "        if text == '': #Writes 'na' when text is empty (because in the text before de searched string there is no numbers)\n",
    "            text = 'na'    \n",
    "    \n",
    "        return text\n",
    "    \n",
    "    elif 'years’' in job_description.lower(): #find each position in 'Job Description' that says \"years’\" (year's experience)\n",
    "        text_list = job_description.split('years’')\n",
    "        text_list = [x[-15:] for x in text_list] #Just take last 15 characters before the searched string (where the text says how many years)\n",
    "        \n",
    "        if len(text_list)>1: #the next line only is executed if there is more than one item in the list\n",
    "            text_list = text_list[:-1] #delete last item in list (cause it does not contain a number)\n",
    "        \n",
    "        # Here I transform words to numbers\n",
    "        for index, item in enumerate(text_list):\n",
    "            if \"one\" in text_list[index].lower():\n",
    "                text_list[index] = text_list[index].lower().replace('one','1')\n",
    "            if \"two\" in text_list[index].lower():\n",
    "                text_list[index] = text_list[index].lower().replace('two','2')\n",
    "            if \"three\" in text_list[index].lower():\n",
    "                text_list[index] = text_list[index].lower().replace('three','3')\n",
    "            if \"four\" in text_list[index].lower():\n",
    "                text_list[index] = text_list[index].lower().replace('four','4')\n",
    "            if \"five\" in text_list[index].lower():\n",
    "                text_list[index] = text_list[index].lower().replace('five','5')\n",
    "            if \"six\" in text_list[index].lower():\n",
    "                text_list[index] = text_list[index].lower().replace('six','6')\n",
    "            if \"seven\" in text_list[index].lower():\n",
    "                text_list[index] = text_list[index].lower().replace('seven','7')\n",
    "            if \"eight\" in text_list[index].lower():\n",
    "                text_list[index] = text_list[index].lower().replace('eight','8')\n",
    "            if \"nine\" in text_list[index].lower():\n",
    "                text_list[index] = text_list[index].lower().replace('nine','9')\n",
    "            if \"ten\" in text_list[index].lower():\n",
    "                text_list[index] = text_list[index].lower().replace('ten','10')\n",
    "            if \"eleven\" in text_list[index].lower():\n",
    "                text_list[index] = text_list[index].lower().replace('eleven','11')\n",
    "            if \"twelve\" in text_list[index].lower():\n",
    "                text_list[index] = text_list[index].lower().replace('twelve','12')\n",
    "\n",
    "        # Here numbers are everything left. (thanks stackoverflow)\n",
    "        pattern = re.compile(r'\\d+')\n",
    "        num_list = [\" \".join(pattern.findall(item)) for item in text_list] #Take each number and create a list of numbers.\n",
    "        #NOTE: when there are decimals numbers, they are taken as different numbers (i.e. 3.5 are taken as 3 and 5). But, taking into account that the average between this and it correct value not affect much, it is irrelevant to correct it.\n",
    "\n",
    "        num_list = max(num_list)   #finally we take the bigger number\n",
    "        #(this means that if the company ask for 2 years of experience with python and 5 years with ML, the important number is the 5)\n",
    "                \n",
    "        text = ' '.join(num_list)\n",
    "        #I choose to do it like this because if I join number I can't differentiate a decimal to decide which is larger('10 3' -> 103)\n",
    "        last_list = text.split(' ')\n",
    "        text = max(last_list)   #finally we take the bigger number\n",
    "        #(this means that if the company ask for 2 years of experience with python and 5 years with ML, the important number is the 5)\n",
    "\n",
    "        if text == '': #Writes 'na' when text is empty (because in the text before de searched string there is no numbers)\n",
    "            text = 'na'\n",
    "        \n",
    "        return text\n",
    "   \n",
    "    else:\n",
    "        return 'na'\n",
    "    \n",
    "    \n",
    "df['seniority_by_description'] = df['Job Description'].apply(experience)\n",
    "\n",
    "df['seniority_by_description'].value_counts()\n"
   ]
  },
  {
   "cell_type": "code",
   "execution_count": 15,
   "id": "165c012c",
   "metadata": {},
   "outputs": [
    {
     "data": {
      "text/plain": [
       "na     294\n",
       "ssr    257\n",
       "jr     116\n",
       "sr      75\n",
       "Name: seniority_by_description, dtype: int64"
      ]
     },
     "execution_count": 15,
     "metadata": {},
     "output_type": "execute_result"
    }
   ],
   "source": [
    "#Here I turn years of experience asked to seniority classification:\n",
    "    #characterizing seniority by: https://devetry.com/blog/junior-vs-mid-vs-senior-software-engineers-–-experience-skills-expectations/\n",
    "    \n",
    "def years_2_seniority(years_c):\n",
    "    if years_c.lower().isdigit():\n",
    "        if int(years_c.lower()) <= 2:\n",
    "            return 'jr'\n",
    "        elif int(years_c.lower()) > 2 and int(years_c.lower()) <= 5:\n",
    "            return 'ssr'\n",
    "        elif int(years_c.lower()) > 5:\n",
    "            return 'sr'\n",
    "    else:\n",
    "        return 'na'    \n",
    "    \n",
    "df['seniority_by_description'] = df['seniority_by_description'].apply(years_2_seniority)\n",
    "df['seniority_by_description'].value_counts()"
   ]
  },
  {
   "cell_type": "code",
   "execution_count": null,
   "id": "29bee5f8",
   "metadata": {},
   "outputs": [],
   "source": [
    "df['seniority_by_description'] = df['seniority_by_description'].apply(years_2_seniority)\n",
    "df['seniority_by_description'].value_counts()"
   ]
  },
  {
   "cell_type": "code",
   "execution_count": 16,
   "id": "67a5bcef",
   "metadata": {},
   "outputs": [
    {
     "data": {
      "text/plain": [
       "sr     258\n",
       "na     214\n",
       "ssr    179\n",
       "jr      91\n",
       "Name: seniority, dtype: int64"
      ]
     },
     "execution_count": 16,
     "metadata": {},
     "output_type": "execute_result"
    }
   ],
   "source": [
    "#Finally I made de last seniorities characterization ranking by seniority_by_title and then seniority_by_description\n",
    "df['seniority'] = df.apply(lambda x: x['seniority_by_description'] if 'na' in x['seniority_by_title'] else x['seniority_by_title'],axis=1)\n",
    "df['seniority'].value_counts()\n",
    "\n",
    "#job_title_variation=df.apply(lambda x: x['Job Title'] if x['job_simp']==\"na\" else 1,axis=1)"
   ]
  },
  {
   "cell_type": "markdown",
   "id": "ed031a66",
   "metadata": {},
   "source": [
    "## Column for Job Description length\n",
    "\t* by quantity of letters and quantity of words"
   ]
  },
  {
   "cell_type": "code",
   "execution_count": 17,
   "id": "fb620c77",
   "metadata": {},
   "outputs": [
    {
     "data": {
      "text/plain": [
       "0      2536\n",
       "1      4783\n",
       "2      3461\n",
       "3      3883\n",
       "4      2728\n",
       "       ... \n",
       "737    6162\n",
       "738    6130\n",
       "739    3078\n",
       "740    1642\n",
       "741    3673\n",
       "Name: desc_len, Length: 742, dtype: int64"
      ]
     },
     "execution_count": 17,
     "metadata": {},
     "output_type": "execute_result"
    }
   ],
   "source": [
    "#It might be interesting to know if companies have longer descriptions if they are posting higher or lower salaries.\n",
    "    #That is to say: Does a company want to explain away a low salary by having really in depth description???\n",
    "    #later we gonna compare to answer this hypothesis, For now, just a columns with these values\n",
    "\n",
    "#Counting characters:\n",
    "df['desc_len'] = df['Job Description'].apply(lambda x:len(x))\n",
    "df['desc_len']"
   ]
  },
  {
   "cell_type": "code",
   "execution_count": 18,
   "id": "447cb8a3",
   "metadata": {},
   "outputs": [
    {
     "name": "stderr",
     "output_type": "stream",
     "text": [
      "C:\\Users\\s_eze\\AppData\\Local\\Temp/ipykernel_8288/2538964308.py:6: SettingWithCopyWarning: \n",
      "A value is trying to be set on a copy of a slice from a DataFrame\n",
      "\n",
      "See the caveats in the documentation: https://pandas.pydata.org/pandas-docs/stable/user_guide/indexing.html#returning-a-view-versus-a-copy\n",
      "  desc_wo_intro[index] = desc_wo_intro[index].lower().replace('\\n',' ')\n"
     ]
    },
    {
     "data": {
      "text/plain": [
       "0      356\n",
       "1      681\n",
       "2      494\n",
       "3      532\n",
       "4      378\n",
       "      ... \n",
       "737    886\n",
       "738    882\n",
       "739    428\n",
       "740    239\n",
       "741    532\n",
       "Name: desc_len_words, Length: 742, dtype: int64"
      ]
     },
     "execution_count": 18,
     "metadata": {},
     "output_type": "execute_result"
    }
   ],
   "source": [
    "#Counting words.\n",
    "desc_wo_intro = df['Job Description']\n",
    "#First I replace '\\n' with ' ':\n",
    "for index, item in enumerate(desc_wo_intro):\n",
    "    if \"\\n\" in desc_wo_intro[index].lower():\n",
    "        desc_wo_intro[index] = desc_wo_intro[index].lower().replace('\\n',' ')\n",
    "# Then count words:\n",
    "df['desc_len_words'] = desc_wo_intro.str.count(' ') + 1\n",
    "df['desc_len_words']"
   ]
  },
  {
   "cell_type": "markdown",
   "id": "4ac5a397",
   "metadata": {},
   "source": [
    "## Checking the others columns:\n",
    "\t* Size\n",
    "\t* Type of ownership\n",
    "\t* Revenue\n",
    " "
   ]
  },
  {
   "cell_type": "code",
   "execution_count": 19,
   "id": "4fbdac0d",
   "metadata": {},
   "outputs": [
    {
     "data": {
      "text/plain": [
       "1001 to 5000 employees     150\n",
       "501 to 1000 employees      134\n",
       "10000+ employees           130\n",
       "201 to 500 employees       117\n",
       "51 to 200 employees         94\n",
       "5001 to 10000 employees     76\n",
       "1 to 50 employees           31\n",
       "na                          10\n",
       "Name: Size, dtype: int64"
      ]
     },
     "execution_count": 19,
     "metadata": {},
     "output_type": "execute_result"
    }
   ],
   "source": [
    "#Size Column\n",
    "df['Size'] = df['Size'].apply(lambda x: 'na' if 'unknown' in x.lower() else ('na' if '-1' in x.lower() else x))\n",
    "df['Size'].value_counts()"
   ]
  },
  {
   "cell_type": "code",
   "execution_count": 20,
   "id": "b7661fea",
   "metadata": {},
   "outputs": [
    {
     "data": {
      "text/plain": [
       "Company - Private                 410\n",
       "Company - Public                  193\n",
       "Nonprofit Organization             55\n",
       "Subsidiary or Business Segment     34\n",
       "Government                         15\n",
       "Hospital                           15\n",
       "College / University               13\n",
       "Other Organization                  5\n",
       "School / School District            2\n",
       "Name: Type of ownership, dtype: int64"
      ]
     },
     "execution_count": 20,
     "metadata": {},
     "output_type": "execute_result"
    }
   ],
   "source": [
    "# Type of ownership \n",
    "df['Type of ownership'] = df['Type of ownership'].apply(lambda x: 'Other Organization' if 'unknown' in x.lower() else ('Other Organization' if '-1' in x.lower() else x))\n",
    "df['Type of ownership'].value_counts()"
   ]
  },
  {
   "cell_type": "code",
   "execution_count": 21,
   "id": "65d3845e",
   "metadata": {},
   "outputs": [
    {
     "data": {
      "text/plain": [
       "Unknown / Non-Applicable            204\n",
       "$10+ billion (USD)                  124\n",
       "$100 to $500 million (USD)           91\n",
       "$1 to $2 billion (USD)               60\n",
       "$500 million to $1 billion (USD)     57\n",
       "$50 to $100 million (USD)            46\n",
       "$25 to $50 million (USD)             40\n",
       "$2 to $5 billion (USD)               39\n",
       "$10 to $25 million (USD)             32\n",
       "$5 to $10 billion (USD)              19\n",
       "$5 to $10 million (USD)              18\n",
       "$1 to $5 million (USD)                8\n",
       "Less than $1 million (USD)            4\n",
       "Name: Revenue, dtype: int64"
      ]
     },
     "execution_count": 21,
     "metadata": {},
     "output_type": "execute_result"
    }
   ],
   "source": [
    "#Revenue\n",
    "df['Revenue'] = df['Revenue'].apply(lambda x: 'Unknown / Non-Applicable' if '-1' in x.lower() else x)\n",
    "df['Revenue'].value_counts()"
   ]
  },
  {
   "cell_type": "markdown",
   "id": "dbef5c26",
   "metadata": {},
   "source": [
    "## Finally exporting our data."
   ]
  },
  {
   "cell_type": "code",
   "execution_count": 22,
   "id": "7c538061",
   "metadata": {},
   "outputs": [],
   "source": [
    "df_out=df\n",
    "df_out.to_csv('____________data_cleaned.csv',index=False)\n",
    "\n",
    "#Checking if the database was exported correctly:\n",
    "#pd.read_csv('salary_data_cleaned.csv')\n"
   ]
  }
 ],
 "metadata": {
  "kernelspec": {
   "display_name": "Python 3 (ipykernel)",
   "language": "python",
   "name": "python3"
  },
  "language_info": {
   "codemirror_mode": {
    "name": "ipython",
    "version": 3
   },
   "file_extension": ".py",
   "mimetype": "text/x-python",
   "name": "python",
   "nbconvert_exporter": "python",
   "pygments_lexer": "ipython3",
   "version": "3.8.8"
  }
 },
 "nbformat": 4,
 "nbformat_minor": 5
}
